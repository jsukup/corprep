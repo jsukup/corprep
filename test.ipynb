{
 "cells": [
  {
   "cell_type": "code",
   "execution_count": null,
   "metadata": {},
   "outputs": [],
   "source": [
    "import os\n",
    "import weaviate\n",
    "import requests\n",
    "import json\n",
    "from dotenv import load_dotenv\n",
    "\n",
    "load_dotenv()\n",
    "weaviate_api = os.getenv('WEAVIATE_API')\n",
    "huggingface_api = os.getenv('HUGGINGFACE_API')\n",
    "\n",
    "\n",
    "client = weaviate.Client(\n",
    "    url = \"https://corprep-vdb-bk49tyjx.weaviate.network\",  \n",
    "    auth_client_secret=weaviate.AuthApiKey(api_key=weaviate_api),\n",
    "    additional_headers = {\n",
    "        \"X-HuggingFace-Api-Key\": huggingface_api\n",
    "    }\n",
    ")"
   ]
  },
  {
   "cell_type": "code",
   "execution_count": null,
   "metadata": {},
   "outputs": [],
   "source": [
    "class_obj = {\n",
    "  \"class\": \"Newscatcher\",\n",
    "  \"vectorizer\": \"text2vec-huggingface\",\n",
    "  \"moduleConfig\": {\n",
    "    \"text2vec-huggingface\": {\n",
    "      \"model\": \"sentence-transformers/all-MiniLM-L6-v2\", \n",
    "      \"vectorizeClassName\": \"false\"\n",
    "    }\n",
    "  },\n",
    "  \"properties\": [\n",
    "    {\n",
    "    'name': 'title',\n",
    "    'dataType': ['text'],\n",
    "    'moduleConfig': {\n",
    "      'text2vec-huggingface': {\n",
    "        'vectorizePropertyName': 'false'\n",
    "      }\n",
    "    }\n",
    "    },\n",
    "    {\n",
    "    'name': 'publishedDate',\n",
    "    'dataType': ['date'],\n",
    "    'moduleConfig': {\n",
    "      'text2vec-huggingface': {\n",
    "        'vectorizePropertyName': 'false'\n",
    "      }\n",
    "    }\n",
    "    },\n",
    "    {\n",
    "    'name': 'summary',\n",
    "    'dataType': ['text'],\n",
    "    'moduleConfig': {\n",
    "      'text2vec-huggingface': {\n",
    "        'vectorizePropertyName': 'false'\n",
    "      }\n",
    "    }\n",
    "    },\n",
    "    {\n",
    "    'name': 'topic',\n",
    "    'dataType': ['text'],\n",
    "    'moduleConfig': {\n",
    "      'text2vec-huggingface': {\n",
    "        'vectorizePropertyName': 'false'\n",
    "      }\n",
    "    }\n",
    "    },\n",
    "    {\n",
    "    'name': 'isOpinion',\n",
    "    'dataType': ['boolean'],\n",
    "    'moduleConfig': {\n",
    "      'text2vec-huggingface': {\n",
    "        'vectorizePropertyName': 'false'\n",
    "      }\n",
    "    }\n",
    "    },\n",
    "    {\n",
    "    'name': 'country',\n",
    "    'dataType': ['text'],\n",
    "    'moduleConfig': {\n",
    "      'text2vec-huggingface': {\n",
    "        'vectorizePropertyName': 'false'\n",
    "      }\n",
    "    }\n",
    "    },\n",
    "    {\n",
    "    'name': 'language',\n",
    "    'dataType': ['text'],\n",
    "    'moduleConfig': {\n",
    "      'text2vec-huggingface': {\n",
    "        'vectorizePropertyName': 'false'\n",
    "      }\n",
    "    }\n",
    "    }\n",
    "  ]\n",
    "}\n",
    "  \n",
    "\n",
    "client.schema.create_class(class_obj)"
   ]
  },
  {
   "cell_type": "code",
   "execution_count": null,
   "metadata": {},
   "outputs": [],
   "source": [
    "client.schema.delete_all()"
   ]
  },
  {
   "cell_type": "code",
   "execution_count": null,
   "metadata": {},
   "outputs": [],
   "source": [
    "client.schema.get('Newscatcher')"
   ]
  },
  {
   "cell_type": "code",
   "execution_count": null,
   "metadata": {},
   "outputs": [],
   "source": [
    "client.query.aggregate(\"Newscatcher\").with_meta_count().do()"
   ]
  },
  {
   "cell_type": "code",
   "execution_count": null,
   "metadata": {},
   "outputs": [],
   "source": [
    "\n",
    "import glob\n",
    "import pprint\n",
    "\n",
    "path = 'C:/mldev/corprep/data'\n",
    "\n",
    "# Prepare a batch process\n",
    "with client.batch (\n",
    "    batch_size=100,\n",
    "    dynamic=True,\n",
    "    timeout_retries=5,\n",
    "    connection_error_retries=5\n",
    ") as batch:\n",
    "    for filename in glob.glob(os.path.join(path, '*.json')):\n",
    "        with open(filename, 'r') as current_file:\n",
    "            for key, val in enumerate(current_file):\n",
    "                val = json.loads(val)\n",
    "                pprint.pprint(val)\n",
    "\n",
    "                # properties = {\n",
    "                #     'title': val['articles'][0]['title'],\n",
    "                #     # 'publishedDate': val['articles'][0]['published_date'],\n",
    "                #     'summary': val['articles'][0]['summary'],\n",
    "                #     'topic': val['articles'][0]['topic'],\n",
    "                #     'isOpinion': val['articles'][0]['is_opinion'],\n",
    "                #     'country': val['articles'][0]['country'],\n",
    "                #     'language': val['articles'][0]['language']                    \n",
    "                # }\n",
    "                              \n",
    "                # client.batch.add_data_object(properties, \"Newscatcher\")"
   ]
  },
  {
   "cell_type": "code",
   "execution_count": 172,
   "metadata": {},
   "outputs": [
    {
     "name": "stdout",
     "output_type": "stream",
     "text": [
      "'{\"deprecations\": null, \"objects\": []}'\n"
     ]
    }
   ],
   "source": [
    "obj = client.data_object.get()\n",
    "obj = json.dumps(obj)\n",
    "pprint.pprint(obj)"
   ]
  },
  {
   "cell_type": "code",
   "execution_count": 171,
   "metadata": {},
   "outputs": [
    {
     "data": {
      "text/plain": [
       "{'dryRun': False,\n",
       " 'match': {'class': 'Newscatcher',\n",
       "  'where': {'operands': None,\n",
       "   'operator': 'Equal',\n",
       "   'path': ['country'],\n",
       "   'valueText': 'US'}},\n",
       " 'output': 'minimal',\n",
       " 'results': {'failed': 0,\n",
       "  'limit': 100000,\n",
       "  'matches': 5,\n",
       "  'objects': None,\n",
       "  'successful': 5}}"
      ]
     },
     "execution_count": 171,
     "metadata": {},
     "output_type": "execute_result"
    }
   ],
   "source": [
    "client.batch.delete_objects(\n",
    "    class_name='Newscatcher',\n",
    "    where={\n",
    "        'path': ['country'],\n",
    "        'operator': 'Equal',\n",
    "        'valueText': 'US'\n",
    "    }\n",
    ")"
   ]
  }
 ],
 "metadata": {
  "kernelspec": {
   "display_name": ".venv",
   "language": "python",
   "name": "python3"
  },
  "language_info": {
   "codemirror_mode": {
    "name": "ipython",
    "version": 3
   },
   "file_extension": ".py",
   "mimetype": "text/x-python",
   "name": "python",
   "nbconvert_exporter": "python",
   "pygments_lexer": "ipython3",
   "version": "3.11.0"
  },
  "orig_nbformat": 4
 },
 "nbformat": 4,
 "nbformat_minor": 2
}
